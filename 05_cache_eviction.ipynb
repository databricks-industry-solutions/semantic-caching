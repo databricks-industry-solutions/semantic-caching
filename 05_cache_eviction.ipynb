{
 "cells": [
  {
   "cell_type": "markdown",
   "metadata": {
    "application/vnd.databricks.v1+cell": {
     "cellMetadata": {
      "byteLimit": 2048000,
      "rowLimit": 10000
     },
     "inputWidgets": {},
     "nuid": "86b85a14-3e65-44e1-8be4-fb17a79ba279",
     "showTitle": false,
     "tableResultSettingsMap": {},
     "title": ""
    }
   },
   "source": [
    "This solution accelerator notebook is available at [Databricks Industry Solutions](https://github.com/databricks-industry-solutions/semantic-caching)."
   ]
  },
  {
   "cell_type": "markdown",
   "metadata": {
    "application/vnd.databricks.v1+cell": {
     "cellMetadata": {
      "byteLimit": 2048000,
      "rowLimit": 10000
     },
     "inputWidgets": {},
     "nuid": "a0cf6ba3-2545-44aa-a870-ebad8db5eb8a",
     "showTitle": false,
     "tableResultSettingsMap": {},
     "title": ""
    }
   },
   "source": [
    "#Cache eviction\n",
    "\n",
    "This notebook walks you through some of the eviction strategies you can employ to your semantic cache. "
   ]
  },
  {
   "cell_type": "code",
   "execution_count": 0,
   "metadata": {
    "application/vnd.databricks.v1+cell": {
     "cellMetadata": {
      "byteLimit": 2048000,
      "rowLimit": 10000
     },
     "inputWidgets": {},
     "nuid": "129f5132-93fc-47b7-86ac-89e8c47d09cd",
     "showTitle": true,
     "tableResultSettingsMap": {},
     "title": "Install requirements"
    }
   },
   "outputs": [],
   "source": [
    "%pip install -r requirements.txt --quiet\n",
    "dbutils.library.restartPython()"
   ]
  },
  {
   "cell_type": "code",
   "execution_count": 0,
   "metadata": {
    "application/vnd.databricks.v1+cell": {
     "cellMetadata": {
      "byteLimit": 2048000,
      "rowLimit": 10000
     },
     "inputWidgets": {},
     "nuid": "152b775d-1acb-4017-89b9-dd481036391b",
     "showTitle": true,
     "tableResultSettingsMap": {},
     "title": "Load parameters"
    }
   },
   "outputs": [],
   "source": [
    "from config import Config\n",
    "config = Config()"
   ]
  },
  {
   "cell_type": "code",
   "execution_count": 0,
   "metadata": {
    "application/vnd.databricks.v1+cell": {
     "cellMetadata": {
      "byteLimit": 2048000,
      "rowLimit": 10000
     },
     "inputWidgets": {},
     "nuid": "801ddfc1-1365-4cb6-b8d2-924b40d7fda2",
     "showTitle": true,
     "tableResultSettingsMap": {},
     "title": "Set environmental variables"
    }
   },
   "outputs": [],
   "source": [
    "import os\n",
    "\n",
    "HOST = dbutils.notebook.entry_point.getDbutils().notebook().getContext().apiUrl().get()\n",
    "TOKEN = dbutils.notebook.entry_point.getDbutils().notebook().getContext().apiToken().get()\n",
    "\n",
    "os.environ['DATABRICKS_HOST'] = HOST\n",
    "os.environ['DATABRICKS_TOKEN'] = TOKEN"
   ]
  },
  {
   "cell_type": "markdown",
   "metadata": {
    "application/vnd.databricks.v1+cell": {
     "cellMetadata": {
      "byteLimit": 2048000,
      "rowLimit": 10000
     },
     "inputWidgets": {},
     "nuid": "57841a83-87e7-4099-a384-292bb48b7eb3",
     "showTitle": false,
     "tableResultSettingsMap": {},
     "title": ""
    }
   },
   "source": [
    "## Cleaning up the cache\n",
    "\n",
    "We instantiate a Vector Search client to interact with a Vector Search endpoint."
   ]
  },
  {
   "cell_type": "code",
   "execution_count": 0,
   "metadata": {
    "application/vnd.databricks.v1+cell": {
     "cellMetadata": {
      "byteLimit": 2048000,
      "rowLimit": 10000
     },
     "inputWidgets": {},
     "nuid": "bc5aec2f-9542-4ea2-9207-f123d90fda45",
     "showTitle": false,
     "tableResultSettingsMap": {},
     "title": ""
    }
   },
   "outputs": [],
   "source": [
    "from databricks.vector_search.client import VectorSearchClient\n",
    "from cache import Cache\n",
    "\n",
    "vsc = VectorSearchClient(\n",
    "    workspace_url=HOST,\n",
    "    personal_access_token=TOKEN,\n",
    "    disable_notice=True,\n",
    "    )\n",
    "\n",
    "semantic_cache = Cache(vsc, config)"
   ]
  },
  {
   "cell_type": "markdown",
   "metadata": {
    "application/vnd.databricks.v1+cell": {
     "cellMetadata": {
      "byteLimit": 2048000,
      "rowLimit": 10000
     },
     "inputWidgets": {},
     "nuid": "de5f2b17-e90d-43f7-b10e-30cec673f756",
     "showTitle": false,
     "tableResultSettingsMap": {},
     "title": ""
    }
   },
   "source": [
    "## FIFO (First-In-First-Out) Strategy\n",
    "\n",
    "**FIFO** (First-In-First-Out) removes the oldest cached items first. In a **semantic caching** context for **LLM responses**, it is useful when:\n",
    "**Static or frequently changing queries**: If queries or questions tend to change frequently over time, older answers might become irrelevant quickly.\n",
    "- **Use Case**: Effective in scenarios where users query frequently changing topics (e.g., breaking news or real-time.)\n",
    "\n",
    "#### Pros:\n",
    "- Simple to implement.\n",
    "- Removes outdated or stale responses automatically.\n",
    "\n",
    "#### Cons:\n",
    "- Does not account for query popularity. Frequently asked questions might be evicted even if they are still relevant.\n",
    "- Not ideal for handling frequently recurring queries, as important cached answers could be removed.\n"
   ]
  },
  {
   "cell_type": "code",
   "execution_count": 0,
   "metadata": {
    "application/vnd.databricks.v1+cell": {
     "cellMetadata": {
      "byteLimit": 2048000,
      "rowLimit": 10000
     },
     "inputWidgets": {},
     "nuid": "5a3f846b-6274-4290-9f9b-d162e95fdce9",
     "showTitle": false,
     "tableResultSettingsMap": {},
     "title": ""
    }
   },
   "outputs": [],
   "source": [
    "semantic_cache.evict(strategy='FIFO', max_documents=4, batch_size=4)"
   ]
  },
  {
   "cell_type": "markdown",
   "metadata": {
    "application/vnd.databricks.v1+cell": {
     "cellMetadata": {
      "byteLimit": 2048000,
      "rowLimit": 10000
     },
     "inputWidgets": {},
     "nuid": "aa21b232-4c4f-4620-bd04-1fb344051d37",
     "showTitle": false,
     "tableResultSettingsMap": {},
     "title": ""
    }
   },
   "source": [
    "## LRU (Least Recently Used) Strategy\n",
    "\n",
    "**LRU** (Least Recently Used) evicts items that haven't been accessed recently. This strategy works well in **semantic caching** for **LLM responses** when:\n",
    "- **Popular or recurring questions**: Frequently asked questions (FAQs) remain in the cache while infrequent or one-off queries are evicted.\n",
    "- **Use Case**: Best suited for systems handling recurring queries, such as customer support, FAQ systems, or educational queries where the same questions are asked repeatedly.\n",
    "\n",
    "#### Pros:\n",
    "- Ensures that frequently accessed answers stay in the cache.\n",
    "- Minimizes re-computation for common queries.\n",
    "\n",
    "#### Cons:\n",
    "- Higher overhead compared to FIFO, as it tracks access patterns.\n",
    "- May retain less relevant but frequently accessed responses, while important but less commonly asked answers could be evicted.\n"
   ]
  },
  {
   "cell_type": "code",
   "execution_count": 0,
   "metadata": {
    "application/vnd.databricks.v1+cell": {
     "cellMetadata": {
      "byteLimit": 2048000,
      "rowLimit": 10000
     },
     "inputWidgets": {},
     "nuid": "6ca10ca6-2597-46f9-9bba-5df65a0754be",
     "showTitle": false,
     "tableResultSettingsMap": {},
     "title": ""
    }
   },
   "outputs": [],
   "source": [
    "semantic_cache.evict(strategy='LRU', max_documents=49)"
   ]
  },
  {
   "cell_type": "markdown",
   "metadata": {
    "application/vnd.databricks.v1+cell": {
     "cellMetadata": {
      "byteLimit": 2048000,
      "rowLimit": 10000
     },
     "inputWidgets": {},
     "nuid": "cba1328d-53e0-4114-9696-ec5f79b1a3eb",
     "showTitle": false,
     "tableResultSettingsMap": {},
     "title": ""
    }
   },
   "source": [
    "### **Limitations:**\n",
    "\n",
    "- **Sequential Batch Eviction:** Both FIFO and LRU rely on batch eviction that involves querying and removing documents iteratively. This sequential process could slow down as the number of documents increases.\n",
    "- **Full Cache Query:** The current implementation of __evict_fifo_ and __evict_lru_ fetches a batch of documents for each iteration, which requires a similarity search query each time. This may introduce latency for larger caches.\n",
    "- **Single-threaded Eviction:** The eviction process operates in a single thread, and as the number of documents grows, the time taken to query and delete entries will increase.\n",
    "\n",
    "**Potential Improvements:**\n",
    "\n",
    "- **Bulk Deletion:**\n",
    "   - Instead of deleting documents in small batches (based on batch_size), consider implementing bulk deletion by gathering all the documents to be evicted in a single query and deleting them all at once.\n",
    "- **Parallelism/Concurrency:**\n",
    "   - Use parallel or multi-threaded processing to speed up both the similarity search and deletion processes using Spark.\n",
    "   - Implementing asynchronous operations can allow multiple batches to be processed concurrently, reducing overall eviction time.\n",
    "- **Optimize Batch Size:**\n",
    "   - Fine-tune the batch_size dynamically based on the current system load or cache size. Larger batches may reduce the number of queries but may also consume more memory, so optimization here is key.\n",
    "- **Index Partitioning:**\n",
    "   - If possible, partition the index based on time (for FIFO) or access time (for LRU). This would allow the search and eviction process to be more efficient, as it would target a specific partition instead of querying the entire cache.\n",
    "- **Cache Usage Statistics:**\n",
    "   - Integrate a system to track the real-time size of the cache and update indexed_row_count without querying the entire cache each time. This would reduce the number of times you need to check the total cache size during eviction.\n"
   ]
  },
  {
   "cell_type": "markdown",
   "metadata": {
    "application/vnd.databricks.v1+cell": {
     "cellMetadata": {
      "byteLimit": 2048000,
      "rowLimit": 10000
     },
     "inputWidgets": {},
     "nuid": "eb4e7be0-d5d6-4596-9d6b-dba0e3fbf799",
     "showTitle": false,
     "tableResultSettingsMap": {},
     "title": ""
    }
   },
   "source": [
    "© 2024 Databricks, Inc. All rights reserved. The source in this notebook is provided subject to the Databricks License."
   ]
  }
 ],
 "metadata": {
  "application/vnd.databricks.v1+notebook": {
   "computePreferences": null,
   "dashboards": [],
   "environmentMetadata": null,
   "inputWidgetPreferences": null,
   "language": "python",
   "notebookMetadata": {
    "pythonIndentUnit": 2
   },
   "notebookName": "05_cache_eviction",
   "widgets": {}
  },
  "language_info": {
   "name": "python"
  }
 },
 "nbformat": 4,
 "nbformat_minor": 0
}
